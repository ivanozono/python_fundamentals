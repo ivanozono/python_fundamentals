{
 "cells": [
  {
   "cell_type": "code",
   "execution_count": 1,
   "metadata": {},
   "outputs": [
    {
     "name": "stdout",
     "output_type": "stream",
     "text": [
      "Hola Mundo\n"
     ]
    }
   ],
   "source": [
    "print('Hola Mundo')"
   ]
  },
  {
   "cell_type": "code",
   "execution_count": 3,
   "metadata": {},
   "outputs": [
    {
     "name": "stdout",
     "output_type": "stream",
     "text": [
      "Como te llamas?\n",
      "Mucho gusto ivan ozono, espero que aprendamos juntos Python\n"
     ]
    }
   ],
   "source": [
    "print('Como te llamas?')\n",
    "nombre = input()\n",
    "print (f\"Mucho gusto {nombre}, espero que aprendamos juntos Python\")"
   ]
  },
  {
   "cell_type": "code",
   "execution_count": 4,
   "metadata": {},
   "outputs": [
    {
     "name": "stdout",
     "output_type": "stream",
     "text": [
      "azul perro la escuela esta lejos\n"
     ]
    }
   ],
   "source": [
    "string1 = \"azul\"\n",
    "string2 = \"perro\"\n",
    "string3 = \"la escuela esta lejos\"\n",
    "\n",
    "print(string1,string2,string3)"
   ]
  },
  {
   "cell_type": "code",
   "execution_count": 5,
   "metadata": {},
   "outputs": [
    {
     "name": "stdout",
     "output_type": "stream",
     "text": [
      "azulperrola escuela esta lejos\n"
     ]
    }
   ],
   "source": [
    "string1 = \"azul\"\n",
    "string2 = \"perro\"\n",
    "string3 = \"la escuela esta lejos\"\n",
    "\n",
    "print(string1 + string2 + string3)"
   ]
  },
  {
   "cell_type": "code",
   "execution_count": 7,
   "metadata": {},
   "outputs": [
    {
     "name": "stdout",
     "output_type": "stream",
     "text": [
      "azul perro la escuela esta lejos\n"
     ]
    }
   ],
   "source": [
    "string1 = \"azul\"\n",
    "string2 = \"perro\"\n",
    "string3 = \"la escuela esta lejos\"\n",
    "\n",
    "print(string1 +' '+ string2 +' '+ string3)"
   ]
  },
  {
   "cell_type": "code",
   "execution_count": 8,
   "metadata": {},
   "outputs": [
    {
     "data": {
      "text/plain": [
       "str"
      ]
     },
     "execution_count": 8,
     "metadata": {},
     "output_type": "execute_result"
    }
   ],
   "source": [
    "type(string1)"
   ]
  },
  {
   "cell_type": "code",
   "execution_count": 10,
   "metadata": {},
   "outputs": [
    {
     "name": "stdout",
     "output_type": "stream",
     "text": [
      "<class 'int'>\n",
      "<class 'str'>\n"
     ]
    }
   ],
   "source": [
    "string1=\"312433\"\n",
    "string2=333\n",
    "print(type(int(string1)))\n",
    "print(type(str(string2)))\n"
   ]
  },
  {
   "cell_type": "code",
   "execution_count": 11,
   "metadata": {},
   "outputs": [
    {
     "name": "stdout",
     "output_type": "stream",
     "text": [
      "64.0\n"
     ]
    }
   ],
   "source": [
    "resultado = (3 + 2/2 * 5) ** 2\n",
    "print(resultado)\n"
   ]
  },
  {
   "cell_type": "code",
   "execution_count": 12,
   "metadata": {},
   "outputs": [],
   "source": [
    "resultado=((3+2)/(2*5))**2"
   ]
  },
  {
   "cell_type": "code",
   "execution_count": 13,
   "metadata": {},
   "outputs": [
    {
     "data": {
      "text/plain": [
       "0.5"
      ]
     },
     "execution_count": 13,
     "metadata": {},
     "output_type": "execute_result"
    }
   ],
   "source": [
    "5/10"
   ]
  },
  {
   "cell_type": "code",
   "execution_count": 14,
   "metadata": {},
   "outputs": [
    {
     "data": {
      "text/plain": [
       "0.25"
      ]
     },
     "execution_count": 14,
     "metadata": {},
     "output_type": "execute_result"
    }
   ],
   "source": [
    "0.5**2"
   ]
  },
  {
   "cell_type": "code",
   "execution_count": 15,
   "metadata": {},
   "outputs": [
    {
     "name": "stdout",
     "output_type": "stream",
     "text": [
      "0.25\n"
     ]
    }
   ],
   "source": [
    "resultado = (((3 + 2)/(2 * 5)) ** 2)\n",
    "print(resultado)\n"
   ]
  },
  {
   "cell_type": "code",
   "execution_count": 16,
   "metadata": {},
   "outputs": [
    {
     "name": "stdout",
     "output_type": "stream",
     "text": [
      "El color ingresado es parte de los colores del arcoíris.\n"
     ]
    }
   ],
   "source": [
    "\n",
    "colores_arcoiris = ['rojo', 'naranja', 'amarillo', 'verde', 'azul', 'indigo', 'violeta']\n",
    "color_ingresado = input(\"Ingrese un color: \")\n",
    "color_ingresado = color_ingresado.lower()\n",
    "if color_ingresado in colores_arcoiris:\n",
    "    print(\"El color ingresado es parte de los colores del arcoíris.\")\n",
    "elif color_ingresado == 'rojo oscuro':\n",
    "    print(\"El color ingresado es parte de los colores del arcoíris.\")\n",
    "else:\n",
    "    print(\"El color ingresado no es parte de los colores del arcoíris.\")\n"
   ]
  }
 ],
 "metadata": {
  "kernelspec": {
   "display_name": "Python 3",
   "language": "python",
   "name": "python3"
  },
  "language_info": {
   "codemirror_mode": {
    "name": "ipython",
    "version": 3
   },
   "file_extension": ".py",
   "mimetype": "text/x-python",
   "name": "python",
   "nbconvert_exporter": "python",
   "pygments_lexer": "ipython3",
   "version": "3.10.10"
  },
  "orig_nbformat": 4
 },
 "nbformat": 4,
 "nbformat_minor": 2
}
