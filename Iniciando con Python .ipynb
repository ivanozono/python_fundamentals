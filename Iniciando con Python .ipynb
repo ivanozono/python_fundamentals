{
 "cells": [
  {
   "cell_type": "markdown",
   "id": "56ed473c",
   "metadata": {},
   "source": [
    "## INICIANDO CON PYTHON NOTEBOOK\n",
    "### 1. Revisamos la version de python que se encuentra instalada "
   ]
  },
  {
   "cell_type": "code",
   "execution_count": 6,
   "id": "5f03c71e",
   "metadata": {},
   "outputs": [
    {
     "name": "stdout",
     "output_type": "stream",
     "text": [
      "Python 3.11.2\r\n"
     ]
    }
   ],
   "source": [
    "!python3 --version"
   ]
  },
  {
   "cell_type": "markdown",
   "id": "866cb433",
   "metadata": {},
   "source": [
    "### 2. Revisamos si se encuentran isntaladas las siguientes librerias, si no estan instaladas utilizamos el comando\n",
    "- !pip3 install nombre_libreria para instalarla"
   ]
  },
  {
   "cell_type": "code",
   "execution_count": 7,
   "id": "cd20407a",
   "metadata": {},
   "outputs": [
    {
     "name": "stdout",
     "output_type": "stream",
     "text": [
      "Requirement already satisfied: pandas in /Library/Frameworks/Python.framework/Versions/3.10/lib/python3.10/site-packages (2.0.0)\n",
      "Requirement already satisfied: numpy>=1.21.0 in /Library/Frameworks/Python.framework/Versions/3.10/lib/python3.10/site-packages (from pandas) (1.24.2)\n",
      "Requirement already satisfied: python-dateutil>=2.8.2 in /Library/Frameworks/Python.framework/Versions/3.10/lib/python3.10/site-packages (from pandas) (2.8.2)\n",
      "Requirement already satisfied: pytz>=2020.1 in /Library/Frameworks/Python.framework/Versions/3.10/lib/python3.10/site-packages (from pandas) (2022.7.1)\n",
      "Requirement already satisfied: tzdata>=2022.1 in /Library/Frameworks/Python.framework/Versions/3.10/lib/python3.10/site-packages (from pandas) (2023.3)\n",
      "Requirement already satisfied: six>=1.5 in /Library/Frameworks/Python.framework/Versions/3.10/lib/python3.10/site-packages (from python-dateutil>=2.8.2->pandas) (1.16.0)\n"
     ]
    }
   ],
   "source": [
    "try: \n",
    "    import pandas\n",
    "except:\n",
    "    !pip3 install pandas"
   ]
  },
  {
   "cell_type": "code",
   "execution_count": null,
   "id": "136ad5df",
   "metadata": {},
   "outputs": [],
   "source": [
    "try: \n",
    "    import matplotlib\n",
    "except:\n",
    "    !pip3 install matplotlib"
   ]
  },
  {
   "cell_type": "code",
   "execution_count": null,
   "id": "efb34e30",
   "metadata": {},
   "outputs": [],
   "source": [
    "try: \n",
    "    import numpy\n",
    "except:\n",
    "    !pip3 install numpy"
   ]
  },
  {
   "cell_type": "markdown",
   "id": "5a77df86",
   "metadata": {},
   "source": [
    "### 3. Hacemos nuestro primer Hola Mundo"
   ]
  },
  {
   "cell_type": "code",
   "execution_count": null,
   "id": "3eb5a579",
   "metadata": {},
   "outputs": [],
   "source": [
    "print(\"Hola Mundo\")"
   ]
  },
  {
   "cell_type": "markdown",
   "id": "bbf0a912",
   "metadata": {},
   "source": [
    "# Nos vemos en clase !!"
   ]
  },
  {
   "cell_type": "code",
   "execution_count": null,
   "id": "d65778b8",
   "metadata": {},
   "outputs": [],
   "source": []
  },
  {
   "cell_type": "code",
   "execution_count": null,
   "id": "bceecccd",
   "metadata": {},
   "outputs": [],
   "source": []
  },
  {
   "cell_type": "code",
   "execution_count": null,
   "id": "01d30b59",
   "metadata": {},
   "outputs": [],
   "source": []
  }
 ],
 "metadata": {
  "kernelspec": {
   "display_name": "Python 3 (ipykernel)",
   "language": "python",
   "name": "python3"
  },
  "language_info": {
   "codemirror_mode": {
    "name": "ipython",
    "version": 3
   },
   "file_extension": ".py",
   "mimetype": "text/x-python",
   "name": "python",
   "nbconvert_exporter": "python",
   "pygments_lexer": "ipython3",
   "version": "3.10.10"
  }
 },
 "nbformat": 4,
 "nbformat_minor": 5
}
